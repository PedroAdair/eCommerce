{
 "cells": [
  {
   "cell_type": "code",
   "execution_count": 70,
   "metadata": {},
   "outputs": [],
   "source": [
    "import datetime\n",
    "import pymongo\n",
    "import os\n",
    "from pymongo import MongoClient\n",
    "from dotenv import load_dotenv\n",
    "ruta_actual = os.getcwd() \n",
    "ruta_padre = os.path.dirname(ruta_actual)\n",
    "load_dotenv('venv/.env')\n",
    "import datetime\n",
    "import random\n",
    "import json\n",
    "from bson.objectid import ObjectId"
   ]
  },
  {
   "cell_type": "code",
   "execution_count": 71,
   "metadata": {},
   "outputs": [],
   "source": [
    "a = os.getenv('connection_url_SanManuel')\n",
    "a"
   ]
  },
  {
   "cell_type": "code",
   "execution_count": 72,
   "metadata": {},
   "outputs": [],
   "source": [
    "connection_url_SanManuel =  'mongodb://eefACE:9UzYm7sB5HxR4WqE3TnGpJ2MvDfXcZvA6L8O1K0I7U3N5Y8T4R6W9Q3E6T2O8H7D3E6S4L9I7T8O1L0O@192.168.100.11:27018/' \n",
    "ecommerce_main = 'Ecommerce'\n",
    "eCommerce_inventario = [connection_url_SanManuel, ecommerce_main, 'inventario']\n",
    "eCommerce_usuarios = [connection_url_SanManuel, ecommerce_main, 'usuario']"
   ]
  },
  {
   "cell_type": "code",
   "execution_count": 73,
   "metadata": {},
   "outputs": [],
   "source": [
    "def coneccionDB(mongo_uri:str,database_name:str,collection_name:str):\n",
    "    '''Permite realizar una coneccion a una colecccion en base de datos'''\n",
    "    \n",
    "    try:\n",
    "        client = MongoClient(mongo_uri)\n",
    "        db = client[database_name]\n",
    "        collection = db[collection_name]\n",
    "        print(f'coneccion exitosa a la coleccion: {database_name}.{collection_name}')\n",
    "    except Exception as e:\n",
    "        print(e)\n",
    "    return collection"
   ]
  },
  {
   "cell_type": "markdown",
   "metadata": {},
   "source": [
    "## Asignar un precio a los productos"
   ]
  },
  {
   "cell_type": "code",
   "execution_count": 74,
   "metadata": {},
   "outputs": [],
   "source": [
    "def generar_precio_unitario():\n",
    "    return random.randint(30, 200)\n",
    "update = False\n",
    "# Actualiza todos los documentos en la colección (nota, todos los prodcutos tienen el mismo precio)\n",
    "if update:\n",
    "    result = coneccionDB(*eCommerce_inventario).update_many({}, {'$set': {'precioUnitario': generar_precio_unitario()}})\n"
   ]
  },
  {
   "cell_type": "markdown",
   "metadata": {},
   "source": [
    "## ejemplo de un usuario"
   ]
  },
  {
   "cell_type": "code",
   "execution_count": 75,
   "metadata": {},
   "outputs": [
    {
     "name": "stdout",
     "output_type": "stream",
     "text": [
      "coneccion exitosa a la coleccion: Ecommerce.usuario\n"
     ]
    },
    {
     "data": {
      "text/plain": [
       "{'_id': ObjectId('65c63fbca5315cbe1489b148'),\n",
       " 'usuario': 'Al92202453',\n",
       " 'nombre': 'Daniel García',\n",
       " 'denominacion': 'SwineSustenance Solutions Inc.',\n",
       " 'password': '$2b$12$GOHmVEj0X5Wz8SglY.RvNeNVaYuCWMUuqKvx/Lut5AXIqCIpy1snK',\n",
       " 'email': 'swine.sus.s@outlook.com',\n",
       " 'proveedor': 1,\n",
       " 'telefono': '2211847999',\n",
       " 'celular': '2211847999',\n",
       " 'picture': '/images/imagenes/user.png'}"
      ]
     },
     "execution_count": 75,
     "metadata": {},
     "output_type": "execute_result"
    }
   ],
   "source": [
    "usuario = coneccionDB(*eCommerce_usuarios).find_one({'nombre': \"Daniel García\"})\n",
    "usuario"
   ]
  },
  {
   "cell_type": "markdown",
   "metadata": {},
   "source": [
    "## ejemplo de una  lista aleatoria de  productos"
   ]
  },
  {
   "cell_type": "code",
   "execution_count": 76,
   "metadata": {},
   "outputs": [
    {
     "name": "stdout",
     "output_type": "stream",
     "text": [
      "coneccion exitosa a la coleccion: Ecommerce.inventario\n"
     ]
    },
    {
     "data": {
      "text/plain": [
       "[{'_id': ObjectId('6671b1b37be252ce7e978325'),\n",
       "  'codigoBarras': '',\n",
       "  'fecha': datetime.datetime(2024, 3, 7, 0, 0),\n",
       "  'nombreOriginal': 'RECHARGEABLE G-SPOT DUAL STIMULATOR with rolling ball',\n",
       "  'nombre': 'ESTIMULADOR DUAL DEL PUNTO G con bola rodante',\n",
       "  'cajas': 1,\n",
       "  'cantidadCaja': 50,\n",
       "  'Total': 50,\n",
       "  'precioUnitario': 103,\n",
       "  'foto': '/img/estimulador_dual_punto_g_rosado_morado.jpg'},\n",
       " {'_id': ObjectId('6671b1b37be252ce7e978310'),\n",
       "  'codigoBarras': '',\n",
       "  'fecha': datetime.datetime(2024, 3, 7, 0, 0),\n",
       "  'nombreOriginal': '10X DUAL TEASER with vibration & licking funtions',\n",
       "  'nombre': '10X DOBLE AVANCE',\n",
       "  'cajas': 1,\n",
       "  'cantidadCaja': 50,\n",
       "  'Total': 50,\n",
       "  'precioUnitario': 90,\n",
       "  'foto': '/img/control_remoto_doble_avance.jpg'},\n",
       " {'_id': ObjectId('6671b1b37be252ce7e978351'),\n",
       "  'codigoBarras': '',\n",
       "  'fecha': datetime.datetime(2024, 3, 7, 0, 0),\n",
       "  'nombreOriginal': 'LUXURY FETISH Ball Gag',\n",
       "  'nombre': 'Mordaza de bola',\n",
       "  'cajas': 1,\n",
       "  'cantidadCaja': 50,\n",
       "  'Total': 50,\n",
       "  'precioUnitario': 73,\n",
       "  'foto': '/img/mordaza_de_bola.jpg'}]"
      ]
     },
     "execution_count": 76,
     "metadata": {},
     "output_type": "execute_result"
    }
   ],
   "source": [
    "pipeline = [{'$sample': {'size': 3}}]\n",
    "productos  = list(coneccionDB(*eCommerce_inventario).aggregate(pipeline))\n",
    "productos"
   ]
  },
  {
   "cell_type": "code",
   "execution_count": 77,
   "metadata": {},
   "outputs": [],
   "source": [
    "def simularCompra(productos:list):\n",
    "\n",
    "    for producto in productos:\n",
    "        cantidad = random.randint(a=1,b=10)\n",
    "        subtotal = cantidad*producto['precioUnitario']\n",
    "\n",
    "        producto['cantidad'] = cantidad\n",
    "        producto['subtotal'] = subtotal\n",
    "    \n",
    "    return productos\n",
    "        "
   ]
  },
  {
   "cell_type": "code",
   "execution_count": 78,
   "metadata": {},
   "outputs": [],
   "source": [
    "# firstkeys = ['codigoBarras', 'nombre', 'precioUnitario']\n",
    "# productos = list(map(lambda d: {k: d[k] for k in firstkeys}, productos))\n",
    "# productos = simularCompra(productos=productos)\n",
    "# productos"
   ]
  },
  {
   "cell_type": "code",
   "execution_count": 79,
   "metadata": {},
   "outputs": [],
   "source": [
    "# totalCompra    =  sum([producto['subtotal'] for producto in productos])\n",
    "# totalArticulos =  sum([producto['cantidad'] for producto in productos])"
   ]
  },
  {
   "cell_type": "markdown",
   "metadata": {},
   "source": [
    "## crear un registro de un ticket\n"
   ]
  },
  {
   "cell_type": "code",
   "execution_count": 80,
   "metadata": {},
   "outputs": [],
   "source": [
    "def crearTicket():\n",
    "    registro = dict()\n",
    "\n",
    "    usuario = coneccionDB(*eCommerce_usuarios).find_one({'nombre': \"Daniel García\"})\n",
    "    registro['idUser'] = usuario['usuario']\n",
    "    registro['userName'] = usuario['nombre']\n",
    "    #\n",
    "    sale_size = random.randint(a=1, b= 10)\n",
    "    pipeline = [{'$sample': {'size': sale_size}}]\n",
    "    productos  = list(coneccionDB(*eCommerce_inventario).aggregate(pipeline))\n",
    "\n",
    "    firstkeys = ['codigoBarras', 'nombre', 'precioUnitario']\n",
    "    productos = list(map(lambda d: {k: d[k] for k in firstkeys}, productos))\n",
    "    productos = simularCompra(productos=productos)\n",
    "    \n",
    "    registro['compras'] = productos\n",
    "    #\n",
    "    registro['totalCompra']    =  sum([producto['subtotal'] for producto in productos])\n",
    "    registro['totalArticulos'] =  sum([producto['cantidad'] for producto in productos])\n",
    "    registro['metidoPago']     =  random.choice(['Efectivo', 'PayPal', 'Tarjeta'])\n",
    "\n",
    "    return registro"
   ]
  },
  {
   "cell_type": "code",
   "execution_count": 86,
   "metadata": {},
   "outputs": [
    {
     "name": "stdout",
     "output_type": "stream",
     "text": [
      "coneccion exitosa a la coleccion: Ecommerce.usuario\n",
      "coneccion exitosa a la coleccion: Ecommerce.inventario\n"
     ]
    }
   ],
   "source": [
    "ticket = crearTicket()\n",
    "productos = ticket"
   ]
  },
  {
   "cell_type": "code",
   "execution_count": 87,
   "metadata": {},
   "outputs": [
    {
     "name": "stdout",
     "output_type": "stream",
     "text": [
      "coneccion exitosa a la coleccion: Ecommerce.inventario\n"
     ]
    },
    {
     "ename": "TypeError",
     "evalue": "string indices must be integers",
     "output_type": "error",
     "traceback": [
      "\u001b[0;31m---------------------------------------------------------------------------\u001b[0m",
      "\u001b[0;31mTypeError\u001b[0m                                 Traceback (most recent call last)",
      "Cell \u001b[0;32mIn[87], line 4\u001b[0m\n\u001b[1;32m      1\u001b[0m eCommerceInventarioDB \u001b[38;5;241m=\u001b[39m coneccionDB(\u001b[38;5;241m*\u001b[39meCommerce_inventario)\n\u001b[1;32m      2\u001b[0m \u001b[38;5;28;01mfor\u001b[39;00m producto \u001b[38;5;129;01min\u001b[39;00m productos:\n\u001b[0;32m----> 4\u001b[0m         producto_bd \u001b[38;5;241m=\u001b[39m \u001b[38;5;28mlist\u001b[39m(eCommerceInventarioDB\u001b[38;5;241m.\u001b[39mfind({\u001b[38;5;124m\"\u001b[39m\u001b[38;5;124mnombre\u001b[39m\u001b[38;5;124m\"\u001b[39m:{\u001b[38;5;124m\"\u001b[39m\u001b[38;5;124m$in\u001b[39m\u001b[38;5;124m\"\u001b[39m:[\u001b[43mproducto\u001b[49m\u001b[43m[\u001b[49m\u001b[38;5;124;43m'\u001b[39;49m\u001b[38;5;124;43mnombre\u001b[39;49m\u001b[38;5;124;43m'\u001b[39;49m\u001b[43m]\u001b[49m]}}))\n\u001b[1;32m      5\u001b[0m         \u001b[38;5;28;01mif\u001b[39;00m \u001b[38;5;28mlen\u001b[39m(producto_bd) \u001b[38;5;241m>\u001b[39m \u001b[38;5;241m0\u001b[39m:\n\u001b[1;32m      7\u001b[0m             \u001b[38;5;28;01mtry\u001b[39;00m:\n",
      "\u001b[0;31mTypeError\u001b[0m: string indices must be integers"
     ]
    }
   ],
   "source": [
    "eCommerceInventarioDB = coneccionDB(*eCommerce_inventario)\n",
    "for producto in productos:\n",
    "        \n",
    "        producto_bd = list(eCommerceInventarioDB.find({\"nombre\":{\"$in\":[producto['nombre']]}}))\n",
    "        if len(producto_bd) > 0:\n",
    "            \n",
    "            try:\n",
    "                cantidad_inventario = producto_bd[0]['Total']\n",
    "                nuevo_total = cantidad_inventario - producto['cantidad']\n",
    "\n",
    "                if nuevo_total < 0:\n",
    "                    print(\"No existe una cantidad en almacen para organizar esa demanda\")\n",
    "                elif nuevo_total == 0:\n",
    "                    print(\"ya no queda mas en inventario\")\n",
    "                else:\n",
    "                    print(\"Ahora solo quedan {} unidades del producto {}\".format(nuevo_total, producto['nombre']))\n",
    "        \n",
    "            except:\n",
    "                None"
   ]
  },
  {
   "cell_type": "code",
   "execution_count": 83,
   "metadata": {},
   "outputs": [],
   "source": [
    "def EvaluarCapacidad():\n",
    "    productos  = list(coneccionDB(*eCommerce_inventario).find({\"codigoBarras\":{\"$in\":[\"240116SSB04\"]}}))\n",
    "    return productos"
   ]
  },
  {
   "cell_type": "code",
   "execution_count": 84,
   "metadata": {},
   "outputs": [
    {
     "name": "stdout",
     "output_type": "stream",
     "text": [
      "coneccion exitosa a la coleccion: Ecommerce.inventario\n"
     ]
    },
    {
     "data": {
      "text/plain": [
       "[]"
      ]
     },
     "execution_count": 84,
     "metadata": {},
     "output_type": "execute_result"
    }
   ],
   "source": [
    "EvaluarCapacidad()"
   ]
  },
  {
   "cell_type": "markdown",
   "metadata": {},
   "source": [
    "##  Funcion para obtener un producto por nombre"
   ]
  },
  {
   "cell_type": "code",
   "execution_count": 85,
   "metadata": {},
   "outputs": [],
   "source": [
    "def getProduct(product_name:str):\n",
    "    \"\"\" \n",
    "    obtener la informacion \n",
    "    \"\"\"\n",
    "    eCommerce_inventario = [connection_url_SanManuel, ecommerce_main, 'inventario']\n",
    "    product = coneccionDB(*eCommerce_inventario).find_one({'nombre': product_name})\n",
    "\n",
    "    return product\n",
    "\n"
   ]
  }
 ],
 "metadata": {
  "kernelspec": {
   "display_name": "eCommerce",
   "language": "python",
   "name": "python3"
  },
  "language_info": {
   "codemirror_mode": {
    "name": "ipython",
    "version": 3
   },
   "file_extension": ".py",
   "mimetype": "text/x-python",
   "name": "python",
   "nbconvert_exporter": "python",
   "pygments_lexer": "ipython3",
   "version": "3.9.19"
  }
 },
 "nbformat": 4,
 "nbformat_minor": 2
}
