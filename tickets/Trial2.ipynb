{
 "cells": [
  {
   "cell_type": "code",
   "execution_count": 10,
   "metadata": {},
   "outputs": [],
   "source": [
    "import datetime\n",
    "import pymongo\n",
    "import os\n",
    "from pymongo import MongoClient\n",
    "from dotenv import load_dotenv\n",
    "ruta_actual = os.getcwd() \n",
    "ruta_padre = os.path.dirname(ruta_actual)\n",
    "load_dotenv('venv/.env')\n",
    "import datetime\n",
    "import random\n",
    "import json"
   ]
  },
  {
   "cell_type": "code",
   "execution_count": 15,
   "metadata": {},
   "outputs": [],
   "source": [
    "a = os.getenv('connection_url_SanManuel')\n",
    "a"
   ]
  },
  {
   "cell_type": "code",
   "execution_count": 26,
   "metadata": {},
   "outputs": [],
   "source": [
    "connection_url_SanManuel =  'mongodb://eefACE:9UzYm7sB5HxR4WqE3TnGpJ2MvDfXcZvA6L8O1K0I7U3N5Y8T4R6W9Q3E6T2O8H7D3E6S4L9I7T8O1L0O@192.168.100.11:27018/' \n",
    "ecommerce_main = 'Ecommerce'\n",
    "eCommerce_inventario = [connection_url_SanManuel, ecommerce_main, 'inventario']\n",
    "eCommerce_usuarios = [connection_url_SanManuel, ecommerce_main, 'usuario']"
   ]
  },
  {
   "cell_type": "code",
   "execution_count": 18,
   "metadata": {},
   "outputs": [],
   "source": [
    "def coneccionDB(mongo_uri:str,database_name:str,collection_name:str):\n",
    "    '''Permite realizar una coneccion a una colecccion en base de datos'''\n",
    "    \n",
    "    try:\n",
    "        client = MongoClient(mongo_uri)\n",
    "        db = client[database_name]\n",
    "        collection = db[collection_name]\n",
    "        print(f'coneccion exitosa a la coleccion: {database_name}.{collection_name}')\n",
    "    except Exception as e:\n",
    "        print(e)\n",
    "    return collection"
   ]
  },
  {
   "cell_type": "markdown",
   "metadata": {},
   "source": [
    "## Asignar un precio a los productos"
   ]
  },
  {
   "cell_type": "code",
   "execution_count": 58,
   "metadata": {},
   "outputs": [],
   "source": [
    "def generar_precio_unitario():\n",
    "    return random.randint(30, 200)\n",
    "update = False\n",
    "# Actualiza todos los documentos en la colección (nota, todos los prodcutos tienen el mismo precio)\n",
    "if update:\n",
    "    result = coneccionDB(*eCommerce_inventario).update_many({}, {'$set': {'precioUnitario': generar_precio_unitario()}})\n"
   ]
  },
  {
   "cell_type": "markdown",
   "metadata": {},
   "source": [
    "## ejemplo de un usuario"
   ]
  },
  {
   "cell_type": "code",
   "execution_count": 46,
   "metadata": {},
   "outputs": [
    {
     "name": "stdout",
     "output_type": "stream",
     "text": [
      "coneccion exitosa a la coleccion: Ecommerce.usuario\n"
     ]
    },
    {
     "data": {
      "text/plain": [
       "{'_id': ObjectId('65c63fbca5315cbe1489b148'),\n",
       " 'usuario': 'Al92202453',\n",
       " 'nombre': 'Daniel García',\n",
       " 'denominacion': 'SwineSustenance Solutions Inc.',\n",
       " 'password': '$2b$12$GOHmVEj0X5Wz8SglY.RvNeNVaYuCWMUuqKvx/Lut5AXIqCIpy1snK',\n",
       " 'email': 'swine.sus.s@outlook.com',\n",
       " 'proveedor': 1,\n",
       " 'telefono': '2211847999',\n",
       " 'celular': '2211847999',\n",
       " 'picture': '/images/imagenes/user.png'}"
      ]
     },
     "execution_count": 46,
     "metadata": {},
     "output_type": "execute_result"
    }
   ],
   "source": [
    "usuario = coneccionDB(*eCommerce_usuarios).find_one({'nombre': \"Daniel García\"})\n",
    "usuario"
   ]
  },
  {
   "cell_type": "markdown",
   "metadata": {},
   "source": [
    "## ejemplo de una  lista aleatoria de  productos"
   ]
  },
  {
   "cell_type": "code",
   "execution_count": 59,
   "metadata": {},
   "outputs": [
    {
     "name": "stdout",
     "output_type": "stream",
     "text": [
      "coneccion exitosa a la coleccion: Ecommerce.inventario\n"
     ]
    },
    {
     "data": {
      "text/plain": [
       "[{'_id': ObjectId('66550424b1a3e277d8fb2b6a'),\n",
       "  'codigoBarras': '240116SSB08',\n",
       "  'fecha': datetime.datetime(2024, 5, 27, 20, 20, 37, 99000),\n",
       "  'nombreOriginal': 'Shoulder Arthrscopy Pack',\n",
       "  'nombre': 'Paquete de artroscopia de hombro',\n",
       "  'cajas': 25,\n",
       "  'cantidadCaja': 4,\n",
       "  'Total': 100,\n",
       "  'precioUnitario': 167},\n",
       " {'_id': ObjectId('66550424b1a3e277d8fb2b68'),\n",
       "  'codigoBarras': '240116SSB07',\n",
       "  'fecha': datetime.datetime(2024, 5, 27, 20, 13, 32, 785000),\n",
       "  'nombreOriginal': 'Knee Arthscopy Pack',\n",
       "  'nombre': 'Paquete de artroscopia de rodilla',\n",
       "  'cajas': 25,\n",
       "  'cantidadCaja': 4,\n",
       "  'Total': 100,\n",
       "  'precioUnitario': 167},\n",
       " {'_id': ObjectId('66550424b1a3e277d8fb2b65'),\n",
       "  'codigoBarras': '240109GLY01',\n",
       "  'fecha': datetime.datetime(2024, 5, 27, 20, 4, 4, 716000),\n",
       "  'nombreOriginal': 'Yellow Nursery Gown',\n",
       "  'nombre': 'Bata de guardería amarilla',\n",
       "  'cajas': 100,\n",
       "  'cantidadCaja': 100,\n",
       "  'Total': 10000,\n",
       "  'precioUnitario': 167}]"
      ]
     },
     "execution_count": 59,
     "metadata": {},
     "output_type": "execute_result"
    }
   ],
   "source": [
    "pipeline = [{'$sample': {'size': 3}}]\n",
    "productos  = list(coneccionDB(*eCommerce_inventario).aggregate(pipeline))\n",
    "productos"
   ]
  },
  {
   "cell_type": "code",
   "execution_count": 63,
   "metadata": {},
   "outputs": [],
   "source": [
    "def simularCompra(productos:list):\n",
    "\n",
    "    for producto in productos:\n",
    "        cantidad = random.randint(a=1,b=30)\n",
    "        subtotal = cantidad*producto['precioUnitario']\n",
    "\n",
    "        producto['cantidad'] = cantidad\n",
    "        producto['subtotal'] = subtotal\n",
    "    \n",
    "    return productos\n",
    "        "
   ]
  },
  {
   "cell_type": "code",
   "execution_count": 64,
   "metadata": {},
   "outputs": [
    {
     "data": {
      "text/plain": [
       "[{'codigoBarras': '240116SSB08',\n",
       "  'nombre': 'Paquete de artroscopia de hombro',\n",
       "  'precioUnitario': 167,\n",
       "  'cantidad': 11,\n",
       "  'subtotal': 1837},\n",
       " {'codigoBarras': '240116SSB07',\n",
       "  'nombre': 'Paquete de artroscopia de rodilla',\n",
       "  'precioUnitario': 167,\n",
       "  'cantidad': 9,\n",
       "  'subtotal': 1503},\n",
       " {'codigoBarras': '240109GLY01',\n",
       "  'nombre': 'Bata de guardería amarilla',\n",
       "  'precioUnitario': 167,\n",
       "  'cantidad': 24,\n",
       "  'subtotal': 4008}]"
      ]
     },
     "execution_count": 64,
     "metadata": {},
     "output_type": "execute_result"
    }
   ],
   "source": [
    "firstkeys = ['codigoBarras', 'nombre', 'precioUnitario']\n",
    "productos = list(map(lambda d: {k: d[k] for k in firstkeys}, productos))\n",
    "productos = simularCompra(productos=productos)\n",
    "productos"
   ]
  },
  {
   "cell_type": "markdown",
   "metadata": {},
   "source": [
    "## obtener totales"
   ]
  },
  {
   "cell_type": "code",
   "execution_count": 66,
   "metadata": {},
   "outputs": [
    {
     "data": {
      "text/plain": [
       "7348"
      ]
     },
     "execution_count": 66,
     "metadata": {},
     "output_type": "execute_result"
    }
   ],
   "source": [
    "totalCompra    =  sum([producto['subtotal'] for producto in productos])\n",
    "totalArticulos =  sum([producto['cantidad'] for producto in productos])"
   ]
  },
  {
   "cell_type": "markdown",
   "metadata": {},
   "source": [
    "## crear un registro de un ticket\n"
   ]
  },
  {
   "cell_type": "code",
   "execution_count": null,
   "metadata": {},
   "outputs": [],
   "source": [
    "def crearTicket():\n",
    "    registro = dict()\n",
    "\n",
    "    usuario = coneccionDB(*eCommerce_usuarios).find_one({'nombre': \"Daniel García\"})\n",
    "    registro['idUser'] = usuario['usuario']\n",
    "    registro['userName'] = usuario['nombre']\n",
    "    #\n",
    "    sale_size = random.randint(a=1, b= 10)\n",
    "    pipeline = [{'$sample': {'size': sale_size}}]\n",
    "    productos  = list(coneccionDB(*eCommerce_inventario).aggregate(pipeline))\n"
   ]
  },
  {
   "cell_type": "code",
   "execution_count": 67,
   "metadata": {},
   "outputs": [
    {
     "data": {
      "text/plain": [
       "{'_id': ObjectId('65c63fbca5315cbe1489b148'),\n",
       " 'usuario': 'Al92202453',\n",
       " 'nombre': 'Daniel García',\n",
       " 'denominacion': 'SwineSustenance Solutions Inc.',\n",
       " 'password': '$2b$12$GOHmVEj0X5Wz8SglY.RvNeNVaYuCWMUuqKvx/Lut5AXIqCIpy1snK',\n",
       " 'email': 'swine.sus.s@outlook.com',\n",
       " 'proveedor': 1,\n",
       " 'telefono': '2211847999',\n",
       " 'celular': '2211847999',\n",
       " 'picture': '/images/imagenes/user.png'}"
      ]
     },
     "execution_count": 67,
     "metadata": {},
     "output_type": "execute_result"
    }
   ],
   "source": [
    "usuario"
   ]
  },
  {
   "cell_type": "code",
   "execution_count": null,
   "metadata": {},
   "outputs": [],
   "source": [
    "registro = {\"idUser\": usuario['usuario'],\n",
    "            \"userName\":usuario['nombre'],\n",
    "            \"compras\": [\n",
    "                {\"clave\": inventario.codigoBarras,\n",
    "                \"nombre\": inventario.nombreOriginal,\n",
    "                \"precioUnitario\": float,\n",
    "                \"cantidad\": int ,\n",
    "                \"descuentoUnitario\": float \n",
    "                \"subtotal\": float\n",
    "                },\n",
    "                {\"clave\": inventario.codigoBarras,\n",
    "                \"nombre\": inventario.nombreOriginal,\n",
    "                \"precioUnitario\": float,\n",
    "                \"cantidad\": int ,\n",
    "                \"descuentoUnitario\": float \n",
    "                \"subtotal\": float\n",
    "                }\n",
    "                ]\n",
    "            \"totalArticulos\": int\n",
    "            \"totalCompra\": float\n",
    "            \"metidoPago\": str}"
   ]
  }
 ],
 "metadata": {
  "kernelspec": {
   "display_name": "eCommerce",
   "language": "python",
   "name": "python3"
  },
  "language_info": {
   "codemirror_mode": {
    "name": "ipython",
    "version": 3
   },
   "file_extension": ".py",
   "mimetype": "text/x-python",
   "name": "python",
   "nbconvert_exporter": "python",
   "pygments_lexer": "ipython3",
   "version": "3.9.19"
  }
 },
 "nbformat": 4,
 "nbformat_minor": 2
}
