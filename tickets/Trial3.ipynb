{
 "cells": [
  {
   "cell_type": "code",
   "execution_count": 1,
   "metadata": {},
   "outputs": [],
   "source": [
    "import datetime\n",
    "import pymongo\n",
    "import os\n",
    "from pymongo import MongoClient\n",
    "from dotenv import load_dotenv\n",
    "ruta_actual = os.getcwd() \n",
    "ruta_padre = os.path.dirname(ruta_actual)\n",
    "load_dotenv('venv/.env')\n",
    "import datetime\n",
    "import random\n",
    "import json"
   ]
  },
  {
   "cell_type": "code",
   "execution_count": 2,
   "metadata": {},
   "outputs": [],
   "source": [
    "connection_url_SanManuel =  'mongodb://eefACE:9UzYm7sB5HxR4WqE3TnGpJ2MvDfXcZvA6L8O1K0I7U3N5Y8T4R6W9Q3E6T2O8H7D3E6S4L9I7T8O1L0O@192.168.100.11:27018/' \n",
    "ecommerce_main = 'Ecommerce'\n",
    "eCommerce_inventario = [connection_url_SanManuel, ecommerce_main, 'inventario']\n",
    "eCommerce_usuarios = [connection_url_SanManuel, ecommerce_main, 'usuario']\n"
   ]
  },
  {
   "cell_type": "code",
   "execution_count": 3,
   "metadata": {},
   "outputs": [],
   "source": [
    "def coneccionDB(mongo_uri:str,database_name:str,collection_name:str):\n",
    "    '''Permite realizar una coneccion a una colecccion en base de datos'''\n",
    "    \n",
    "    try:\n",
    "        client = MongoClient(mongo_uri)\n",
    "        db = client[database_name]\n",
    "        collection = db[collection_name]\n",
    "        print(f'coneccion exitosa a la coleccion: {database_name}.{collection_name}')\n",
    "    except Exception as e:\n",
    "        print(e)\n",
    "    return collection"
   ]
  },
  {
   "cell_type": "code",
   "execution_count": 8,
   "metadata": {},
   "outputs": [
    {
     "name": "stdout",
     "output_type": "stream",
     "text": [
      "coneccion exitosa a la coleccion: Ecommerce.usuario\n",
      "coneccion exitosa a la coleccion: Ecommerce.inventario\n"
     ]
    }
   ],
   "source": [
    "# usuario = coneccionDB(*eCommerce_usuarios).find_one({'nombre': \"Daniel García\"}) #un registro de un usuario\n",
    "# pipeline = [{'$sample': {'size': 3}}]\n",
    "# productos  = list(coneccionDB(*eCommerce_inventario).aggregate(pipeline))"
   ]
  },
  {
   "cell_type": "code",
   "execution_count": 17,
   "metadata": {},
   "outputs": [],
   "source": [
    "\n",
    "def simularCompra(productos:list):\n",
    "    compras = []\n",
    "    for producto in productos:\n",
    "        max_ =  producto['Total']\n",
    "        cantidad = random.randint(a=1,b=int(max(1,max_/5)))\n",
    "        subtotal = cantidad*producto['precioUnitario']\n",
    "\n",
    "        muestra = {\n",
    "            \"nombre\"         : producto['nombreOriginal'],\n",
    "            \"precioUnitario\" : producto['precioUnitario'],\n",
    "            \"cantidad\"       : cantidad, \n",
    "            \"subtotal\"       : subtotal\n",
    "        }\n",
    "        compras.append(muestra)\n",
    "    return compras"
   ]
  },
  {
   "cell_type": "markdown",
   "metadata": {},
   "source": [
    "Ejemplo de un registro"
   ]
  },
  {
   "cell_type": "code",
   "execution_count": 25,
   "metadata": {},
   "outputs": [],
   "source": [
    "def realizarRegistro(usuario, productos):\n",
    "    compras = simularCompra(productos)\n",
    "    registro = {\"idUser\":  usuario['nombre'],\n",
    "        \"userName\": usuario['_id'],\n",
    "        \"compras\":  compras,\n",
    "        \"totalArticulos\": sum([d['cantidad'] for d in compras]),\n",
    "        \"totalCompra\": sum([d['subtotal'] for d in compras]),\n",
    "        \"metodoPago\": random.choice([\"Efectivo\", \"Credito\", \"PayPal\"]),\n",
    "        \"fechaPedimiento\": datetime.datetime.now()\n",
    "        }\n",
    "    return registro"
   ]
  },
  {
   "cell_type": "code",
   "execution_count": 26,
   "metadata": {},
   "outputs": [],
   "source": [
    "def actualizarInventario():\n",
    "    usuario = coneccionDB(*eCommerce_usuarios).find_one({'nombre': \"Daniel García\"}) #un registro de un usuario\n",
    "    pipeline = [{'$sample': {'size': 3}}]\n",
    "    productos  = list(coneccionDB(*eCommerce_inventario).aggregate(pipeline))\n",
    "\n",
    "    registro = realizarRegistro(usuario, productos)\n",
    "    \n",
    "    #aqui se necesita eliminar de los inventarios las cantidades\n",
    "    return \n"
   ]
  },
  {
   "cell_type": "code",
   "execution_count": 28,
   "metadata": {},
   "outputs": [
    {
     "name": "stdout",
     "output_type": "stream",
     "text": [
      "coneccion exitosa a la coleccion: Ecommerce.usuario\n",
      "coneccion exitosa a la coleccion: Ecommerce.inventario\n"
     ]
    },
    {
     "data": {
      "text/plain": [
       "{'idUser': 'Daniel García',\n",
       " 'userName': ObjectId('65c63fbca5315cbe1489b148'),\n",
       " 'compras': [{'nombre': 'PUMPN PLAY DONG',\n",
       "   'precioUnitario': 33,\n",
       "   'cantidad': 3,\n",
       "   'subtotal': 99},\n",
       "  {'nombre': 'Mega Anal Plug',\n",
       "   'precioUnitario': 140,\n",
       "   'cantidad': 5,\n",
       "   'subtotal': 700},\n",
       "  {'nombre': 'ESCAPADE Silicone dong - Novice',\n",
       "   'precioUnitario': 103,\n",
       "   'cantidad': 9,\n",
       "   'subtotal': 927}],\n",
       " 'totalArticulos': 17,\n",
       " 'totalCompra': 1726,\n",
       " 'metodoPago': 'Credito',\n",
       " 'fechaPedimiento': datetime.datetime(2024, 6, 19, 16, 48, 46, 367520)}"
      ]
     },
     "execution_count": 28,
     "metadata": {},
     "output_type": "execute_result"
    }
   ],
   "source": [
    "usuario = coneccionDB(*eCommerce_usuarios).find_one({'nombre': \"Daniel García\"}) #un registro de un usuario\n",
    "pipeline = [{'$sample': {'size': 3}}]\n",
    "productos  = list(coneccionDB(*eCommerce_inventario).aggregate(pipeline))\n",
    "\n",
    "registro = realizarRegistro(usuario, productos)\n",
    "registro"
   ]
  }
 ],
 "metadata": {
  "kernelspec": {
   "display_name": "eCommerce",
   "language": "python",
   "name": "python3"
  },
  "language_info": {
   "codemirror_mode": {
    "name": "ipython",
    "version": 3
   },
   "file_extension": ".py",
   "mimetype": "text/x-python",
   "name": "python",
   "nbconvert_exporter": "python",
   "pygments_lexer": "ipython3",
   "version": "3.9.19"
  }
 },
 "nbformat": 4,
 "nbformat_minor": 2
}
