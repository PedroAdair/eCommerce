{
 "cells": [
  {
   "cell_type": "code",
   "execution_count": 10,
   "metadata": {},
   "outputs": [],
   "source": [
    "import datetime\n",
    "import pymongo\n",
    "import os\n",
    "from pymongo import MongoClient\n",
    "from dotenv import load_dotenv\n",
    "ruta_actual = os.getcwd() \n",
    "ruta_padre = os.path.dirname(ruta_actual)\n",
    "load_dotenv('venv/.env')\n",
    "import datetime\n",
    "import random\n",
    "import json\n",
    "from bson.objectid import ObjectId"
   ]
  },
  {
   "cell_type": "markdown",
   "metadata": {},
   "source": [
    "lectura de claves"
   ]
  },
  {
   "cell_type": "code",
   "execution_count": 11,
   "metadata": {},
   "outputs": [],
   "source": [
    "connection_url_SanManuel =  'mongodb://eefACE:9UzYm7sB5HxR4WqE3TnGpJ2MvDfXcZvA6L8O1K0I7U3N5Y8T4R6W9Q3E6T2O8H7D3E6S4L9I7T8O1L0O@192.168.100.11:27018/' \n",
    "ecommerce_main = 'Ecommerce'\n",
    "eCommerce_inventario = [connection_url_SanManuel, ecommerce_main, 'inventario']\n",
    "eCommerce_usuarios = [connection_url_SanManuel, ecommerce_main, 'usuario']\n",
    "eCommerce_solicitudCompra = [connection_url_SanManuel, ecommerce_main, 'solicitudCompra']\n"
   ]
  },
  {
   "cell_type": "markdown",
   "metadata": {},
   "source": [
    "funciones"
   ]
  },
  {
   "cell_type": "code",
   "execution_count": 12,
   "metadata": {},
   "outputs": [],
   "source": [
    "def coneccionDB(mongo_uri:str,database_name:str,collection_name:str):\n",
    "    '''Permite realizar una coneccion a una colecccion en base de datos'''\n",
    "    \n",
    "    try:\n",
    "        client = MongoClient(mongo_uri)\n",
    "        db = client[database_name]\n",
    "        collection = db[collection_name]\n",
    "        print(f'coneccion exitosa a la coleccion: {database_name}.{collection_name}')\n",
    "    except Exception as e:\n",
    "        print(e)\n",
    "    return collection"
   ]
  },
  {
   "cell_type": "markdown",
   "metadata": {},
   "source": [
    "## Auxiliar para una simulacion"
   ]
  },
  {
   "cell_type": "code",
   "execution_count": 32,
   "metadata": {},
   "outputs": [],
   "source": [
    "def randomDates(cantidad):\n",
    "    fechas = []\n",
    "    for _ in range(cantidad):\n",
    "        fecha = datetime.datetime(\n",
    "            random.randint(2024, 2024),  # Año\n",
    "            random.randint(1, 6),        # Mes\n",
    "            random.randint(1, 28),        # Día (asumimos hasta 28 para simplicidad)\n",
    "            random.randint(8, 20),        # Hora\n",
    "            random.randint(0, 59),        # Minuto\n",
    "            random.randint(0, 59)         # Segundo\n",
    "        )\n",
    "        fechas.append(fecha)\n",
    "    fechas.sort()\n",
    "    return fechas"
   ]
  },
  {
   "cell_type": "code",
   "execution_count": 46,
   "metadata": {},
   "outputs": [],
   "source": [
    "randomDatesLog = randomDates(10)"
   ]
  },
  {
   "cell_type": "markdown",
   "metadata": {},
   "source": [
    "### Funciones necesarias"
   ]
  },
  {
   "cell_type": "code",
   "execution_count": 47,
   "metadata": {},
   "outputs": [],
   "source": [
    "def simularCompra(productos:list):\n",
    "\n",
    "    for producto in productos:\n",
    "        cantidad = random.randint(a=1,b=10)\n",
    "        subtotal = cantidad*producto['precioUnitario']\n",
    "\n",
    "        producto['cantidad'] = cantidad\n",
    "        producto['subtotal'] = subtotal\n",
    "    \n",
    "    return productos"
   ]
  },
  {
   "cell_type": "code",
   "execution_count": 61,
   "metadata": {},
   "outputs": [],
   "source": [
    "def crearTicket(insertDate:bool, insertDB:bool):\n",
    "    \"\"\"\n",
    "    Se selecciona un usuario al azar para simular que realizo una compra. Posteriormente se realiza una eleccion aleatoria se una cantidad de elementos, \n",
    "    un metodod de pago y se actualiza la informacion relacionada a la compra. \n",
    "\n",
    "    \n",
    "    * insertDate: En caso de ser True, se registrara en fechaPedimiento como la fecha y hora actual. En caso de False se toma de una lista previa\n",
    "    * insertDB: En caso de ser True, se agrega el registro en base de datos en la coleccion eCommerce_solicitudCompra.\n",
    "\n",
    "    \n",
    "    * Return: un diccionario con las siguientes llaves: \n",
    "        | Llave             | descripcion |\n",
    "        |------------------|-------------|\n",
    "        | idUser           | Selecciona un usuario aleatorio de la coleccion usuario.usuario       |\n",
    "        | userName         | De ese registro, se obtiene el atributo usuario.nombre                |\n",
    "        | numeroSolicitud  | Se consultala cantidad de registros en la coleccion de solicitudCompra y se le suma 1|\n",
    "        | compras          | Una lista de diccionarios que tienen las siguientes llaves: ['codigoBarras', 'nombre', 'precioUnitario', 'cantidad', 'subtotal']|\n",
    "        | totalCompra      | La suma de los subtotal de cada producto |\n",
    "        | totalArticulos   | La suma de los cantidad de cada producto|\n",
    "        | metidoPago       | Se simula entre ['Efectivo', 'PayPal', 'Tarjeta de credito', 'Tarjeta de debito']|\n",
    "        | fechaPedimiento' | En caso de ser True, se registrara en fechaPedimiento como la fecha y hora actual. En caso de False se toma de una lista previa|\n",
    "        |\n",
    "    Los valores en los diccionarios en la lista de compras provienen de una consulata a la coleccion inventario\n",
    "    \"\"\"\n",
    "\n",
    "    registro = dict()\n",
    "\n",
    "    usuario = coneccionDB(*eCommerce_usuarios).find_one({'nombre': \"Daniel García\"})\n",
    "    registro['idUser'] = usuario['usuario']\n",
    "    registro['userName'] = usuario['nombre']\n",
    "    registro['numeroSolicitud'] = coneccionDB(*eCommerce_solicitudCompra).count_documents({})+1\n",
    "    #\n",
    "    sale_size = random.randint(a=1, b= 10)\n",
    "    pipeline = [{'$sample': {'size': sale_size}}]\n",
    "    productos  = list(coneccionDB(*eCommerce_inventario).aggregate(pipeline))\n",
    "\n",
    "    firstkeys = ['codigoBarras', 'nombre', 'precioUnitario']\n",
    "    productos = list(map(lambda d: {k: d[k] for k in firstkeys}, productos))\n",
    "    productos = simularCompra(productos=productos)\n",
    "    \n",
    "    registro['compras'] = productos\n",
    "    #\n",
    "    registro['totalCompra']    =  sum([producto['subtotal'] for producto in productos])\n",
    "    registro['totalArticulos'] =  sum([producto['cantidad'] for producto in productos])\n",
    "    registro['metidoPago']     =  random.choice(['Efectivo', 'PayPal', 'Tarjeta de credito', 'Tarjeta de debito'])\n",
    "\n",
    "    if insertDate:\n",
    "        registro['fechaPedimiento'] = datetime.datetime.now() \n",
    "    else:\n",
    "        registro['fechaPedimiento']= randomDatesLog.pop(0)\n",
    "    if insertDB:\n",
    "        coneccionDB(*eCommerce_solicitudCompra).insert_one(registro)\n",
    "    return registro"
   ]
  },
  {
   "cell_type": "code",
   "execution_count": 49,
   "metadata": {},
   "outputs": [],
   "source": [
    "def actualizarRegistros(productos:list):\n",
    "    eCommerceInventarioDB = coneccionDB(*eCommerce_inventario)\n",
    "    for producto in productos:\n",
    "            \n",
    "            producto_bd = list(eCommerceInventarioDB.find({\"nombre\":{\"$in\":[producto['nombre']]}}))\n",
    "            # filter = {nombre}\n",
    "            if len(producto_bd) > 0:\n",
    "                \n",
    "                try:\n",
    "                    cantidad_inventario = producto_bd[0]['Total']\n",
    "                    nuevo_total = cantidad_inventario - producto['cantidad']\n",
    "                    name = producto['nombre']\n",
    "\n",
    "                    if nuevo_total < 0:\n",
    "                        print(\"No existe una cantidad en almacen para organizar esa demanda\")\n",
    "                    elif nuevo_total == 0:\n",
    "                        print(\"ya no queda mas en inventario\")\n",
    "                    else:\n",
    "                        print(\"Ahora solo quedan {} unidades del producto {}\".format(nuevo_total, name))\n",
    "\n",
    "                    if nuevo_total >=0:\n",
    "                        filter = {'nombre': name}\n",
    "                        actualizacion = {\"$set\": {\"Total\": nuevo_total}}\n",
    "                        resultado = eCommerceInventarioDB.update_one(filter, actualizacion)\n",
    "                    else:\n",
    "                         print(\"no se actualiza este cambio\")\n",
    "                \n",
    "                except:\n",
    "                    None"
   ]
  },
  {
   "cell_type": "code",
   "execution_count": 76,
   "metadata": {},
   "outputs": [
    {
     "name": "stdout",
     "output_type": "stream",
     "text": [
      "coneccion exitosa a la coleccion: Ecommerce.usuario\n",
      "coneccion exitosa a la coleccion: Ecommerce.solicitudCompra\n",
      "coneccion exitosa a la coleccion: Ecommerce.inventario\n",
      "coneccion exitosa a la coleccion: Ecommerce.inventario\n",
      "Ahora solo quedan 55 unidades del producto Puños en los tobillos.\n",
      "Ahora solo quedan 43 unidades del producto SEDUCTOR - Lujuria doblada\n",
      "Ahora solo quedan 47 unidades del producto Secreto privado- Varita de alegría\n",
      "Ahora solo quedan 90 unidades del producto Kits de Bondage-Línea Leopardo Rojo\n",
      "Ahora solo quedan 291 unidades del producto Anillo para el pene pesado - Estimulador\n",
      "Ahora solo quedan 41 unidades del producto SUCUBIS DE MODA - DONG VIBRANTE\n",
      "Ahora solo quedan 42 unidades del producto AMBIENTE ENCANTADOR - VARITA MÁGICA\n",
      "Ahora solo quedan 54 unidades del producto Bola Banger para pene -Ring 2 bolas\n"
     ]
    }
   ],
   "source": [
    "ticket = crearTicket(insertDate=False, insertDB=False)\n",
    "actualizarRegistros(productos=ticket['compras'])"
   ]
  },
  {
   "cell_type": "code",
   "execution_count": 75,
   "metadata": {},
   "outputs": [
    {
     "name": "stdout",
     "output_type": "stream",
     "text": [
      "PENETRADOR - Pene realista\n",
      "coneccion exitosa a la coleccion: Ecommerce.inventario\n"
     ]
    }
   ],
   "source": [
    "# ticket = crearTicket(insertDate=False, insertDB=False)\n",
    "print(ticket['compras'][0]['nombre'])\n",
    "\n",
    "eCommerceInventarioDB = coneccionDB(*eCommerce_inventario)\n",
    "\n",
    "name = ticket['compras'][0]['nombre']\n",
    "nuevo_total = 50\n",
    "\n",
    "\n",
    "filter = {'nombre': name}\n",
    "\n",
    "actualizacion = {\"$set\": {\"Total\": nuevo_total}}\n",
    "\n",
    "resultado = eCommerceInventarioDB.update_one(filter, actualizacion)"
   ]
  },
  {
   "cell_type": "code",
   "execution_count": 70,
   "metadata": {},
   "outputs": [
    {
     "data": {
      "text/plain": [
       "'Pene de bombeo'"
      ]
     },
     "execution_count": 70,
     "metadata": {},
     "output_type": "execute_result"
    }
   ],
   "source": []
  },
  {
   "cell_type": "code",
   "execution_count": 62,
   "metadata": {},
   "outputs": [
    {
     "name": "stdout",
     "output_type": "stream",
     "text": [
      "coneccion exitosa a la coleccion: Ecommerce.usuario\n",
      "coneccion exitosa a la coleccion: Ecommerce.solicitudCompra\n",
      "coneccion exitosa a la coleccion: Ecommerce.inventario\n",
      "coneccion exitosa a la coleccion: Ecommerce.solicitudCompra\n"
     ]
    }
   ],
   "source": [
    "ticket = crearTicket(insertDate=False, insertDB=True)\n",
    "# actualizarRegistros(productos=ticket['compras'])\n",
    " ticket['compras'][0]['nombre']"
   ]
  },
  {
   "cell_type": "code",
   "execution_count": 66,
   "metadata": {},
   "outputs": [
    {
     "data": {
      "text/plain": [
       "'Buscador implacable - Huevo remoto de silicona'"
      ]
     },
     "execution_count": 66,
     "metadata": {},
     "output_type": "execute_result"
    }
   ],
   "source": [
    "# ticket['compras'][0].keys()"
   ]
  },
  {
   "cell_type": "code",
   "execution_count": 24,
   "metadata": {},
   "outputs": [
    {
     "data": {
      "text/plain": [
       "datetime.datetime(2024, 1, 1, 14, 34, 24)"
      ]
     },
     "execution_count": 24,
     "metadata": {},
     "output_type": "execute_result"
    }
   ],
   "source": [
    "\n",
    "\n",
    "fechas = randomDates(10)\n",
    "fechas[0]"
   ]
  },
  {
   "cell_type": "code",
   "execution_count": 26,
   "metadata": {},
   "outputs": [
    {
     "data": {
      "text/plain": [
       "True"
      ]
     },
     "execution_count": 26,
     "metadata": {},
     "output_type": "execute_result"
    }
   ],
   "source": [
    "fechas[0] < datetime.datetime.now()"
   ]
  },
  {
   "cell_type": "markdown",
   "metadata": {},
   "source": [
    "ejemplo de varias compras"
   ]
  }
 ],
 "metadata": {
  "kernelspec": {
   "display_name": "eCommerce",
   "language": "python",
   "name": "python3"
  },
  "language_info": {
   "codemirror_mode": {
    "name": "ipython",
    "version": 3
   },
   "file_extension": ".py",
   "mimetype": "text/x-python",
   "name": "python",
   "nbconvert_exporter": "python",
   "pygments_lexer": "ipython3",
   "version": "3.9.19"
  }
 },
 "nbformat": 4,
 "nbformat_minor": 2
}
