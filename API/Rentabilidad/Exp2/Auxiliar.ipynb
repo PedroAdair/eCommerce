{
 "cells": [
  {
   "cell_type": "code",
   "execution_count": 1,
   "metadata": {},
   "outputs": [],
   "source": [
    "import pandas as pd"
   ]
  },
  {
   "cell_type": "code",
   "execution_count": null,
   "metadata": {},
   "outputs": [],
   "source": [
    "B2  = {\"precioVentaPropuesto\": 34,\n",
    "       \"porcentajeGanancia\": 10,\n",
    "       \"porcentajeIVA\": 16,\n",
    "       \"IVA\": 11.62,\n",
    "       \"precioFinalIVA\": 81.2\n",
    "       }"
   ]
  },
  {
   "cell_type": "code",
   "execution_count": null,
   "metadata": {},
   "outputs": [],
   "source": [
    "# ['tipoCambio']['globales']['porcentajeIVA']"
   ]
  },
  {
   "cell_type": "code",
   "execution_count": 2,
   "metadata": {},
   "outputs": [],
   "source": [
    "def ValorenVenta(product: dict, porcentajeIVA: float):\n",
    "    precioVentaPropuesto = product['precioVentaPropuesto']\n",
    "\n",
    "    porcentajeGanancia = ((precioVentaPropuesto * product['costoTotal']['CostoFinal'])/100) - 100\n",
    "    IVA = precioVentaPropuesto*porcentajeIVA\n",
    "    precioFinalIVA = porcentajeGanancia + IVA\n",
    "\n",
    "    infoVenta = {\"precioVentaPropuesto\": precioVentaPropuesto,\n",
    "                 \"porcentajeGanancia\": round(porcentajeGanancia, 2),\n",
    "                 \"porcentajeIVA\": porcentajeIVA,\n",
    "                 \"IVA\": IVA,\n",
    "                 \"precioFinalIVA\":precioFinalIVA\n",
    "                 }\n",
    "    return "
   ]
  }
 ],
 "metadata": {
  "kernelspec": {
   "display_name": "eCommerce",
   "language": "python",
   "name": "python3"
  },
  "language_info": {
   "codemirror_mode": {
    "name": "ipython",
    "version": 3
   },
   "file_extension": ".py",
   "mimetype": "text/x-python",
   "name": "python",
   "nbconvert_exporter": "python",
   "pygments_lexer": "ipython3",
   "version": "3.9.19"
  }
 },
 "nbformat": 4,
 "nbformat_minor": 2
}
