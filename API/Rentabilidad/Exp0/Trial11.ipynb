{
 "cells": [
  {
   "cell_type": "code",
   "execution_count": 24,
   "metadata": {},
   "outputs": [],
   "source": [
    "import pandas as pd\n",
    "import os\n",
    "import json\n",
    "# pip install openpyxl "
   ]
  },
  {
   "cell_type": "code",
   "execution_count": null,
   "metadata": {},
   "outputs": [],
   "source": []
  },
  {
   "cell_type": "code",
   "execution_count": 25,
   "metadata": {},
   "outputs": [],
   "source": [
    "df = pd.read_excel('/home/PedroSci/eCommerce/DB_examples/input.xlsx', engine='openpyxl',skiprows=10, index_col=0)\n",
    "df = df.drop(df.index[0])\n",
    "df_data = df[['Clave del Producto y/o Servicio','Descripción Producto según Pedimento','Piezas']]\n"
   ]
  },
  {
   "cell_type": "code",
   "execution_count": 28,
   "metadata": {},
   "outputs": [],
   "source": [
    "with open('opciones_productos.json', 'w') as archivo_json:\n",
    "    json.dump(df_data.to_dict(orient='records'), archivo_json, indent=4)"
   ]
  }
 ],
 "metadata": {
  "kernelspec": {
   "display_name": "eCommerce",
   "language": "python",
   "name": "python3"
  },
  "language_info": {
   "codemirror_mode": {
    "name": "ipython",
    "version": 3
   },
   "file_extension": ".py",
   "mimetype": "text/x-python",
   "name": "python",
   "nbconvert_exporter": "python",
   "pygments_lexer": "ipython3",
   "version": "3.9.19"
  }
 },
 "nbformat": 4,
 "nbformat_minor": 2
}
